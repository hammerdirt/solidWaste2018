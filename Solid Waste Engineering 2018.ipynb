{
 "cells": [
  {
   "cell_type": "markdown",
   "metadata": {},
   "source": [
    "### Solid Waste Engineering 2018\n",
    "#### Semester project\n",
    "#### Testing the probability of garbage"
   ]
  },
  {
   "cell_type": "code",
   "execution_count": 1,
   "metadata": {},
   "outputs": [],
   "source": [
    "import pandas as pd\n",
    "import numpy as np\n",
    "import matplotlib\n",
    "import matplotlib.pyplot as plt\n",
    "import re\n",
    "import os\n",
    "from scipy.stats import norm\n",
    "import scipy.stats\n",
    "import statsmodels.api as sm\n",
    "import requests\n",
    "import json"
   ]
  },
  {
   "cell_type": "markdown",
   "metadata": {},
   "source": [
    "### This is all the daily totals in the database:"
   ]
  },
  {
   "cell_type": "code",
   "execution_count": 2,
   "metadata": {},
   "outputs": [],
   "source": [
    "url = \"http://mwshovel.pythonanywhere.com/dirt/daily-total/Lac-Léman/?format=json\"\n",
    "data = requests.get(url).json()"
   ]
  },
  {
   "cell_type": "code",
   "execution_count": 3,
   "metadata": {},
   "outputs": [],
   "source": [
    "this_data = pd.DataFrame(data)"
   ]
  },
  {
   "cell_type": "code",
   "execution_count": 4,
   "metadata": {},
   "outputs": [],
   "source": [
    "this_data[\"pcs_m\"]=this_data.total / this_data.length"
   ]
  },
  {
   "cell_type": "code",
   "execution_count": 5,
   "metadata": {},
   "outputs": [
    {
     "data": {
      "text/plain": [
       "Index(['date', 'length', 'location', 'total', 'pcs_m'], dtype='object')"
      ]
     },
     "execution_count": 5,
     "metadata": {},
     "output_type": "execute_result"
    }
   ],
   "source": [
    "this_data.columns"
   ]
  },
  {
   "cell_type": "markdown",
   "metadata": {},
   "source": [
    "### This is just the record to Tiger-duck-beach\n",
    "#### extracted from the data frame"
   ]
  },
  {
   "cell_type": "code",
   "execution_count": 6,
   "metadata": {},
   "outputs": [],
   "source": [
    "tigerDuck = this_data[this_data.location == \"Tiger-duck-beach\"]"
   ]
  },
  {
   "cell_type": "code",
   "execution_count": 7,
   "metadata": {},
   "outputs": [
    {
     "data": {
      "text/html": [
       "<div>\n",
       "<style scoped>\n",
       "    .dataframe tbody tr th:only-of-type {\n",
       "        vertical-align: middle;\n",
       "    }\n",
       "\n",
       "    .dataframe tbody tr th {\n",
       "        vertical-align: top;\n",
       "    }\n",
       "\n",
       "    .dataframe thead th {\n",
       "        text-align: right;\n",
       "    }\n",
       "</style>\n",
       "<table border=\"1\" class=\"dataframe\">\n",
       "  <thead>\n",
       "    <tr style=\"text-align: right;\">\n",
       "      <th></th>\n",
       "      <th>date</th>\n",
       "      <th>length</th>\n",
       "      <th>location</th>\n",
       "      <th>total</th>\n",
       "      <th>pcs_m</th>\n",
       "    </tr>\n",
       "  </thead>\n",
       "  <tbody>\n",
       "    <tr>\n",
       "      <th>146</th>\n",
       "      <td>2018-10-16</td>\n",
       "      <td>18</td>\n",
       "      <td>Tiger-duck-beach</td>\n",
       "      <td>1387</td>\n",
       "      <td>77.055556</td>\n",
       "    </tr>\n",
       "  </tbody>\n",
       "</table>\n",
       "</div>"
      ],
      "text/plain": [
       "           date  length          location  total      pcs_m\n",
       "146  2018-10-16      18  Tiger-duck-beach   1387  77.055556"
      ]
     },
     "execution_count": 7,
     "metadata": {},
     "output_type": "execute_result"
    }
   ],
   "source": [
    "tigerDuck"
   ]
  },
  {
   "cell_type": "markdown",
   "metadata": {},
   "source": [
    "### This is the object totals for Tiger-duck-beach"
   ]
  },
  {
   "cell_type": "code",
   "execution_count": 8,
   "metadata": {},
   "outputs": [],
   "source": [
    "urlx = \"http://mwshovel.pythonanywhere.com/dirt/codes/Tiger-duck-beach/?format=json\"\n",
    "datax = requests.get(urlx).json()"
   ]
  },
  {
   "cell_type": "code",
   "execution_count": 9,
   "metadata": {},
   "outputs": [],
   "source": [
    "tiger_luck_code = pd.DataFrame(datax)"
   ]
  },
  {
   "cell_type": "code",
   "execution_count": 10,
   "metadata": {},
   "outputs": [
    {
     "data": {
      "text/html": [
       "<div>\n",
       "<style scoped>\n",
       "    .dataframe tbody tr th:only-of-type {\n",
       "        vertical-align: middle;\n",
       "    }\n",
       "\n",
       "    .dataframe tbody tr th {\n",
       "        vertical-align: top;\n",
       "    }\n",
       "\n",
       "    .dataframe thead th {\n",
       "        text-align: right;\n",
       "    }\n",
       "</style>\n",
       "<table border=\"1\" class=\"dataframe\">\n",
       "  <thead>\n",
       "    <tr style=\"text-align: right;\">\n",
       "      <th></th>\n",
       "      <th>code_id</th>\n",
       "      <th>date</th>\n",
       "      <th>length</th>\n",
       "      <th>location_id</th>\n",
       "      <th>owner</th>\n",
       "      <th>project_id</th>\n",
       "      <th>quantity</th>\n",
       "    </tr>\n",
       "  </thead>\n",
       "  <tbody>\n",
       "    <tr>\n",
       "      <th>0</th>\n",
       "      <td>G200</td>\n",
       "      <td>2018-10-16</td>\n",
       "      <td>18</td>\n",
       "      <td>Tiger-duck-beach</td>\n",
       "      <td>mwshovel</td>\n",
       "      <td>tiger-duck</td>\n",
       "      <td>51</td>\n",
       "    </tr>\n",
       "    <tr>\n",
       "      <th>1</th>\n",
       "      <td>G178</td>\n",
       "      <td>2018-10-16</td>\n",
       "      <td>18</td>\n",
       "      <td>Tiger-duck-beach</td>\n",
       "      <td>mwshovel</td>\n",
       "      <td>tiger-duck</td>\n",
       "      <td>9</td>\n",
       "    </tr>\n",
       "    <tr>\n",
       "      <th>2</th>\n",
       "      <td>G70</td>\n",
       "      <td>2018-10-16</td>\n",
       "      <td>18</td>\n",
       "      <td>Tiger-duck-beach</td>\n",
       "      <td>mwshovel</td>\n",
       "      <td>tiger-duck</td>\n",
       "      <td>4</td>\n",
       "    </tr>\n",
       "    <tr>\n",
       "      <th>3</th>\n",
       "      <td>G28</td>\n",
       "      <td>2018-10-16</td>\n",
       "      <td>18</td>\n",
       "      <td>Tiger-duck-beach</td>\n",
       "      <td>mwshovel</td>\n",
       "      <td>tiger-duck</td>\n",
       "      <td>1</td>\n",
       "    </tr>\n",
       "    <tr>\n",
       "      <th>4</th>\n",
       "      <td>G34</td>\n",
       "      <td>2018-10-16</td>\n",
       "      <td>18</td>\n",
       "      <td>Tiger-duck-beach</td>\n",
       "      <td>mwshovel</td>\n",
       "      <td>tiger-duck</td>\n",
       "      <td>4</td>\n",
       "    </tr>\n",
       "  </tbody>\n",
       "</table>\n",
       "</div>"
      ],
      "text/plain": [
       "  code_id        date  length       location_id     owner  project_id  \\\n",
       "0    G200  2018-10-16      18  Tiger-duck-beach  mwshovel  tiger-duck   \n",
       "1    G178  2018-10-16      18  Tiger-duck-beach  mwshovel  tiger-duck   \n",
       "2     G70  2018-10-16      18  Tiger-duck-beach  mwshovel  tiger-duck   \n",
       "3     G28  2018-10-16      18  Tiger-duck-beach  mwshovel  tiger-duck   \n",
       "4     G34  2018-10-16      18  Tiger-duck-beach  mwshovel  tiger-duck   \n",
       "\n",
       "   quantity  \n",
       "0        51  \n",
       "1         9  \n",
       "2         4  \n",
       "3         1  \n",
       "4         4  "
      ]
     },
     "execution_count": 10,
     "metadata": {},
     "output_type": "execute_result"
    }
   ],
   "source": [
    "tiger_luck_code[:5]"
   ]
  },
  {
   "cell_type": "code",
   "execution_count": null,
   "metadata": {},
   "outputs": [],
   "source": []
  }
 ],
 "metadata": {
  "kernelspec": {
   "display_name": "Python 3",
   "language": "python",
   "name": "python3"
  },
  "language_info": {
   "codemirror_mode": {
    "name": "ipython",
    "version": 3
   },
   "file_extension": ".py",
   "mimetype": "text/x-python",
   "name": "python",
   "nbconvert_exporter": "python",
   "pygments_lexer": "ipython3",
   "version": "3.6.5"
  }
 },
 "nbformat": 4,
 "nbformat_minor": 2
}
