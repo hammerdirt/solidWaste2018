{
 "cells": [
  {
   "cell_type": "markdown",
   "metadata": {},
   "source": [
    "### Solid Waste Engineering 2018\n",
    "#### Semester project: Testing the probability of garbage\n",
    "Masters students in Environmental Engineering from the [École Polytechnique Féderale de Lausanne](https://enac.epfl.ch/environmental-engineering) test the hypothesis that litter densities on Lac Léman are predicatable.  The current method is based on the Probability Density Function derived from the logarithm of the pieces/meter of trash (pcs/m) from over 100 samples.\n",
    "\n",
    "This workbook is an initiation to standard techniques:\n",
    "\n",
    "1. Getting data from the API or other remote sources\n",
    "2. Sorting, grouping and slicing the data\n",
    "3. Using lists and dictionairies to slice and sort data\n",
    "4. Mergiing dataFrames\n",
    "\n",
    "We will add to this workbook as the semester advances"
   ]
  },
  {
   "cell_type": "code",
   "execution_count": 2,
   "metadata": {},
   "outputs": [],
   "source": [
    "import pandas as pd\n",
    "import numpy as np\n",
    "import matplotlib\n",
    "import matplotlib.pyplot as plt\n",
    "import re\n",
    "import os\n",
    "from scipy.stats import norm\n",
    "import scipy.stats\n",
    "import statsmodels.api as sm\n",
    "import requests\n",
    "import json"
   ]
  },
  {
   "cell_type": "markdown",
   "metadata": {},
   "source": [
    "### This is all the daily totals in the database for Lac Léman:"
   ]
  },
  {
   "cell_type": "code",
   "execution_count": 3,
   "metadata": {},
   "outputs": [],
   "source": [
    "url = \"http://mwshovel.pythonanywhere.com/dirt/daily-total/Lac-Léman/?format=json\"\n",
    "data = requests.get(url).json()"
   ]
  },
  {
   "cell_type": "code",
   "execution_count": 4,
   "metadata": {},
   "outputs": [],
   "source": [
    "this_data = pd.DataFrame(data)"
   ]
  },
  {
   "cell_type": "code",
   "execution_count": 5,
   "metadata": {},
   "outputs": [],
   "source": [
    "this_data[\"pcs_m\"]=this_data.total / this_data.length"
   ]
  },
  {
   "cell_type": "code",
   "execution_count": 6,
   "metadata": {},
   "outputs": [
    {
     "data": {
      "text/plain": [
       "Index(['date', 'length', 'location', 'total', 'pcs_m'], dtype='object')"
      ]
     },
     "execution_count": 6,
     "metadata": {},
     "output_type": "execute_result"
    }
   ],
   "source": [
    "this_data.columns"
   ]
  },
  {
   "cell_type": "markdown",
   "metadata": {},
   "source": [
    "### This is just the record to Tiger-duck-beach\n",
    "#### extracted from the data frame"
   ]
  },
  {
   "cell_type": "code",
   "execution_count": 7,
   "metadata": {},
   "outputs": [],
   "source": [
    "tigerDuck = this_data[this_data.location == \"Tiger-duck-beach\"]"
   ]
  },
  {
   "cell_type": "code",
   "execution_count": 8,
   "metadata": {},
   "outputs": [
    {
     "data": {
      "text/html": [
       "<div>\n",
       "<style scoped>\n",
       "    .dataframe tbody tr th:only-of-type {\n",
       "        vertical-align: middle;\n",
       "    }\n",
       "\n",
       "    .dataframe tbody tr th {\n",
       "        vertical-align: top;\n",
       "    }\n",
       "\n",
       "    .dataframe thead th {\n",
       "        text-align: right;\n",
       "    }\n",
       "</style>\n",
       "<table border=\"1\" class=\"dataframe\">\n",
       "  <thead>\n",
       "    <tr style=\"text-align: right;\">\n",
       "      <th></th>\n",
       "      <th>date</th>\n",
       "      <th>length</th>\n",
       "      <th>location</th>\n",
       "      <th>total</th>\n",
       "      <th>pcs_m</th>\n",
       "    </tr>\n",
       "  </thead>\n",
       "  <tbody>\n",
       "    <tr>\n",
       "      <th>146</th>\n",
       "      <td>2018-10-16</td>\n",
       "      <td>18</td>\n",
       "      <td>Tiger-duck-beach</td>\n",
       "      <td>1387</td>\n",
       "      <td>77.055556</td>\n",
       "    </tr>\n",
       "  </tbody>\n",
       "</table>\n",
       "</div>"
      ],
      "text/plain": [
       "           date  length          location  total      pcs_m\n",
       "146  2018-10-16      18  Tiger-duck-beach   1387  77.055556"
      ]
     },
     "execution_count": 8,
     "metadata": {},
     "output_type": "execute_result"
    }
   ],
   "source": [
    "tigerDuck"
   ]
  },
  {
   "cell_type": "markdown",
   "metadata": {},
   "source": [
    "### This is the object totals for Tiger-duck-beach"
   ]
  },
  {
   "cell_type": "code",
   "execution_count": 9,
   "metadata": {},
   "outputs": [],
   "source": [
    "urlx = \"http://mwshovel.pythonanywhere.com/dirt/codes/Tiger-duck-beach/?format=json\"\n",
    "datax = requests.get(urlx).json()"
   ]
  },
  {
   "cell_type": "code",
   "execution_count": 10,
   "metadata": {},
   "outputs": [],
   "source": [
    "tiger_luck_code = pd.DataFrame(datax)"
   ]
  },
  {
   "cell_type": "code",
   "execution_count": 11,
   "metadata": {},
   "outputs": [
    {
     "data": {
      "text/html": [
       "<div>\n",
       "<style scoped>\n",
       "    .dataframe tbody tr th:only-of-type {\n",
       "        vertical-align: middle;\n",
       "    }\n",
       "\n",
       "    .dataframe tbody tr th {\n",
       "        vertical-align: top;\n",
       "    }\n",
       "\n",
       "    .dataframe thead th {\n",
       "        text-align: right;\n",
       "    }\n",
       "</style>\n",
       "<table border=\"1\" class=\"dataframe\">\n",
       "  <thead>\n",
       "    <tr style=\"text-align: right;\">\n",
       "      <th></th>\n",
       "      <th>code_id</th>\n",
       "      <th>date</th>\n",
       "      <th>length</th>\n",
       "      <th>location_id</th>\n",
       "      <th>owner</th>\n",
       "      <th>project_id</th>\n",
       "      <th>quantity</th>\n",
       "    </tr>\n",
       "  </thead>\n",
       "  <tbody>\n",
       "    <tr>\n",
       "      <th>0</th>\n",
       "      <td>G200</td>\n",
       "      <td>2018-10-16</td>\n",
       "      <td>18</td>\n",
       "      <td>Tiger-duck-beach</td>\n",
       "      <td>mwshovel</td>\n",
       "      <td>tiger-duck</td>\n",
       "      <td>51</td>\n",
       "    </tr>\n",
       "    <tr>\n",
       "      <th>1</th>\n",
       "      <td>G178</td>\n",
       "      <td>2018-10-16</td>\n",
       "      <td>18</td>\n",
       "      <td>Tiger-duck-beach</td>\n",
       "      <td>mwshovel</td>\n",
       "      <td>tiger-duck</td>\n",
       "      <td>9</td>\n",
       "    </tr>\n",
       "    <tr>\n",
       "      <th>2</th>\n",
       "      <td>G70</td>\n",
       "      <td>2018-10-16</td>\n",
       "      <td>18</td>\n",
       "      <td>Tiger-duck-beach</td>\n",
       "      <td>mwshovel</td>\n",
       "      <td>tiger-duck</td>\n",
       "      <td>4</td>\n",
       "    </tr>\n",
       "    <tr>\n",
       "      <th>3</th>\n",
       "      <td>G28</td>\n",
       "      <td>2018-10-16</td>\n",
       "      <td>18</td>\n",
       "      <td>Tiger-duck-beach</td>\n",
       "      <td>mwshovel</td>\n",
       "      <td>tiger-duck</td>\n",
       "      <td>1</td>\n",
       "    </tr>\n",
       "    <tr>\n",
       "      <th>4</th>\n",
       "      <td>G34</td>\n",
       "      <td>2018-10-16</td>\n",
       "      <td>18</td>\n",
       "      <td>Tiger-duck-beach</td>\n",
       "      <td>mwshovel</td>\n",
       "      <td>tiger-duck</td>\n",
       "      <td>4</td>\n",
       "    </tr>\n",
       "  </tbody>\n",
       "</table>\n",
       "</div>"
      ],
      "text/plain": [
       "  code_id        date  length       location_id     owner  project_id  \\\n",
       "0    G200  2018-10-16      18  Tiger-duck-beach  mwshovel  tiger-duck   \n",
       "1    G178  2018-10-16      18  Tiger-duck-beach  mwshovel  tiger-duck   \n",
       "2     G70  2018-10-16      18  Tiger-duck-beach  mwshovel  tiger-duck   \n",
       "3     G28  2018-10-16      18  Tiger-duck-beach  mwshovel  tiger-duck   \n",
       "4     G34  2018-10-16      18  Tiger-duck-beach  mwshovel  tiger-duck   \n",
       "\n",
       "   quantity  \n",
       "0        51  \n",
       "1         9  \n",
       "2         4  \n",
       "3         1  \n",
       "4         4  "
      ]
     },
     "execution_count": 11,
     "metadata": {},
     "output_type": "execute_result"
    }
   ],
   "source": [
    "tiger_luck_code[:5]"
   ]
  },
  {
   "cell_type": "markdown",
   "metadata": {},
   "source": [
    "### This gets the MLW codes from the website:"
   ]
  },
  {
   "cell_type": "code",
   "execution_count": 12,
   "metadata": {},
   "outputs": [],
   "source": [
    "csvUrl = \"https://mwshovel.pythonanywhere.com/static/newCriteria.csv\"\n",
    "mlwCodes = pd.read_csv(csvUrl)"
   ]
  },
  {
   "cell_type": "code",
   "execution_count": 13,
   "metadata": {},
   "outputs": [
    {
     "data": {
      "text/html": [
       "<div>\n",
       "<style scoped>\n",
       "    .dataframe tbody tr th:only-of-type {\n",
       "        vertical-align: middle;\n",
       "    }\n",
       "\n",
       "    .dataframe tbody tr th {\n",
       "        vertical-align: top;\n",
       "    }\n",
       "\n",
       "    .dataframe thead th {\n",
       "        text-align: right;\n",
       "    }\n",
       "</style>\n",
       "<table border=\"1\" class=\"dataframe\">\n",
       "  <thead>\n",
       "    <tr style=\"text-align: right;\">\n",
       "      <th></th>\n",
       "      <th>code</th>\n",
       "      <th>material</th>\n",
       "      <th>description</th>\n",
       "      <th>source</th>\n",
       "    </tr>\n",
       "  </thead>\n",
       "  <tbody>\n",
       "    <tr>\n",
       "      <th>0</th>\n",
       "      <td>G1</td>\n",
       "      <td>Plastic</td>\n",
       "      <td>Six pack rings</td>\n",
       "      <td>Food</td>\n",
       "    </tr>\n",
       "    <tr>\n",
       "      <th>1</th>\n",
       "      <td>G2</td>\n",
       "      <td>None</td>\n",
       "      <td>None</td>\n",
       "      <td>None</td>\n",
       "    </tr>\n",
       "    <tr>\n",
       "      <th>2</th>\n",
       "      <td>G3</td>\n",
       "      <td>Plastic</td>\n",
       "      <td>Shopping bags</td>\n",
       "      <td>Household</td>\n",
       "    </tr>\n",
       "    <tr>\n",
       "      <th>3</th>\n",
       "      <td>G4</td>\n",
       "      <td>Plastic</td>\n",
       "      <td>Freezer bags</td>\n",
       "      <td>Household</td>\n",
       "    </tr>\n",
       "    <tr>\n",
       "      <th>4</th>\n",
       "      <td>G5</td>\n",
       "      <td>Plastic</td>\n",
       "      <td>Generic plastic bags</td>\n",
       "      <td>Household</td>\n",
       "    </tr>\n",
       "    <tr>\n",
       "      <th>5</th>\n",
       "      <td>G6</td>\n",
       "      <td>None</td>\n",
       "      <td>None</td>\n",
       "      <td>None</td>\n",
       "    </tr>\n",
       "    <tr>\n",
       "      <th>6</th>\n",
       "      <td>G7</td>\n",
       "      <td>Plastic</td>\n",
       "      <td>Drink bottles &lt; 0.5l</td>\n",
       "      <td>Food</td>\n",
       "    </tr>\n",
       "    <tr>\n",
       "      <th>7</th>\n",
       "      <td>G8</td>\n",
       "      <td>Plastic</td>\n",
       "      <td>Drink bottles  &gt; 0.5l</td>\n",
       "      <td>Food</td>\n",
       "    </tr>\n",
       "    <tr>\n",
       "      <th>8</th>\n",
       "      <td>G9</td>\n",
       "      <td>Plastic</td>\n",
       "      <td>Cleaner bottles</td>\n",
       "      <td>Household</td>\n",
       "    </tr>\n",
       "    <tr>\n",
       "      <th>9</th>\n",
       "      <td>G10</td>\n",
       "      <td>Plastic</td>\n",
       "      <td>Food containers</td>\n",
       "      <td>Food</td>\n",
       "    </tr>\n",
       "  </tbody>\n",
       "</table>\n",
       "</div>"
      ],
      "text/plain": [
       "  code material            description     source\n",
       "0   G1  Plastic         Six pack rings       Food\n",
       "1   G2     None                   None       None\n",
       "2   G3  Plastic          Shopping bags  Household\n",
       "3   G4  Plastic           Freezer bags  Household\n",
       "4   G5  Plastic   Generic plastic bags  Household\n",
       "5   G6     None                   None       None\n",
       "6   G7  Plastic   Drink bottles < 0.5l       Food\n",
       "7   G8  Plastic  Drink bottles  > 0.5l       Food\n",
       "8   G9  Plastic        Cleaner bottles  Household\n",
       "9  G10  Plastic        Food containers       Food"
      ]
     },
     "execution_count": 13,
     "metadata": {},
     "output_type": "execute_result"
    }
   ],
   "source": [
    "mlwCodes[:10]"
   ]
  },
  {
   "cell_type": "markdown",
   "metadata": {},
   "source": [
    "### So if you wanted to get just the codes that are plastic:"
   ]
  },
  {
   "cell_type": "code",
   "execution_count": 14,
   "metadata": {},
   "outputs": [],
   "source": [
    "plasticCodes = mlwCodes.loc[mlwCodes.material == 'Plastic']"
   ]
  },
  {
   "cell_type": "code",
   "execution_count": 15,
   "metadata": {},
   "outputs": [
    {
     "name": "stdout",
     "output_type": "stream",
     "text": [
      "89 213\n"
     ]
    }
   ],
   "source": [
    "print(len(plasticCodes), len(mlwCodes))"
   ]
  },
  {
   "cell_type": "markdown",
   "metadata": {},
   "source": [
    "### What are the codes from tiger-duck-beach that were indentified and are plastic?\n",
    "\n",
    "1. What is the desctiption of each code\n",
    "2. Merge the quantity and description in one dataframe"
   ]
  },
  {
   "cell_type": "code",
   "execution_count": 16,
   "metadata": {},
   "outputs": [
    {
     "data": {
      "text/plain": [
       "['G1', 'G3', 'G4', 'G5', 'G7']"
      ]
     },
     "execution_count": 16,
     "metadata": {},
     "output_type": "execute_result"
    }
   ],
   "source": [
    "# create a list of the codes that are just plastic\n",
    "plasticList = plasticCodes.code.tolist()\n",
    "plasticList[:5]"
   ]
  },
  {
   "cell_type": "code",
   "execution_count": 17,
   "metadata": {},
   "outputs": [
    {
     "data": {
      "text/html": [
       "<div>\n",
       "<style scoped>\n",
       "    .dataframe tbody tr th:only-of-type {\n",
       "        vertical-align: middle;\n",
       "    }\n",
       "\n",
       "    .dataframe tbody tr th {\n",
       "        vertical-align: top;\n",
       "    }\n",
       "\n",
       "    .dataframe thead th {\n",
       "        text-align: right;\n",
       "    }\n",
       "</style>\n",
       "<table border=\"1\" class=\"dataframe\">\n",
       "  <thead>\n",
       "    <tr style=\"text-align: right;\">\n",
       "      <th></th>\n",
       "      <th>location_id</th>\n",
       "      <th>code</th>\n",
       "      <th>quantity</th>\n",
       "    </tr>\n",
       "  </thead>\n",
       "  <tbody>\n",
       "    <tr>\n",
       "      <th>2</th>\n",
       "      <td>Tiger-duck-beach</td>\n",
       "      <td>G70</td>\n",
       "      <td>4</td>\n",
       "    </tr>\n",
       "    <tr>\n",
       "      <th>3</th>\n",
       "      <td>Tiger-duck-beach</td>\n",
       "      <td>G28</td>\n",
       "      <td>1</td>\n",
       "    </tr>\n",
       "    <tr>\n",
       "      <th>4</th>\n",
       "      <td>Tiger-duck-beach</td>\n",
       "      <td>G34</td>\n",
       "      <td>4</td>\n",
       "    </tr>\n",
       "    <tr>\n",
       "      <th>5</th>\n",
       "      <td>Tiger-duck-beach</td>\n",
       "      <td>G24</td>\n",
       "      <td>19</td>\n",
       "    </tr>\n",
       "    <tr>\n",
       "      <th>6</th>\n",
       "      <td>Tiger-duck-beach</td>\n",
       "      <td>G21</td>\n",
       "      <td>38</td>\n",
       "    </tr>\n",
       "  </tbody>\n",
       "</table>\n",
       "</div>"
      ],
      "text/plain": [
       "        location_id code  quantity\n",
       "2  Tiger-duck-beach  G70         4\n",
       "3  Tiger-duck-beach  G28         1\n",
       "4  Tiger-duck-beach  G34         4\n",
       "5  Tiger-duck-beach  G24        19\n",
       "6  Tiger-duck-beach  G21        38"
      ]
     },
     "execution_count": 17,
     "metadata": {},
     "output_type": "execute_result"
    }
   ],
   "source": [
    "# use that list to select only those codes from the inventorY\n",
    "tigerDuckBeachPlastic = tiger_luck_code[tiger_luck_code['code_id'].isin(plasticList)]\n",
    "# this result should be set to a copy otherwise it will put out an error warning:\n",
    "justCodeQauntity=tigerDuckBeachPlastic[['location_id', 'code_id', 'quantity']].copy()\n",
    "# now the column can be renamed so it can be merged later:\n",
    "justCodeQauntity.rename(columns={'code_id':'code'}, inplace=True)\n",
    "justCodeQauntity[:5]"
   ]
  },
  {
   "cell_type": "code",
   "execution_count": 18,
   "metadata": {},
   "outputs": [
    {
     "data": {
      "text/html": [
       "<div>\n",
       "<style scoped>\n",
       "    .dataframe tbody tr th:only-of-type {\n",
       "        vertical-align: middle;\n",
       "    }\n",
       "\n",
       "    .dataframe tbody tr th {\n",
       "        vertical-align: top;\n",
       "    }\n",
       "\n",
       "    .dataframe thead th {\n",
       "        text-align: right;\n",
       "    }\n",
       "</style>\n",
       "<table border=\"1\" class=\"dataframe\">\n",
       "  <thead>\n",
       "    <tr style=\"text-align: right;\">\n",
       "      <th></th>\n",
       "      <th>code</th>\n",
       "      <th>material</th>\n",
       "      <th>description</th>\n",
       "      <th>source</th>\n",
       "    </tr>\n",
       "  </thead>\n",
       "  <tbody>\n",
       "    <tr>\n",
       "      <th>20</th>\n",
       "      <td>G21</td>\n",
       "      <td>Plastic</td>\n",
       "      <td>Drink lids</td>\n",
       "      <td>Food</td>\n",
       "    </tr>\n",
       "    <tr>\n",
       "      <th>22</th>\n",
       "      <td>G23</td>\n",
       "      <td>Plastic</td>\n",
       "      <td>Lids unidentified</td>\n",
       "      <td>Household</td>\n",
       "    </tr>\n",
       "    <tr>\n",
       "      <th>23</th>\n",
       "      <td>G24</td>\n",
       "      <td>Plastic</td>\n",
       "      <td>Plastic rings from lids</td>\n",
       "      <td>Food</td>\n",
       "    </tr>\n",
       "    <tr>\n",
       "      <th>26</th>\n",
       "      <td>G27</td>\n",
       "      <td>Plastic</td>\n",
       "      <td>Cigarette butts</td>\n",
       "      <td>Tobaco</td>\n",
       "    </tr>\n",
       "    <tr>\n",
       "      <th>27</th>\n",
       "      <td>G28</td>\n",
       "      <td>Plastic</td>\n",
       "      <td>Pens and lids</td>\n",
       "      <td>Household</td>\n",
       "    </tr>\n",
       "  </tbody>\n",
       "</table>\n",
       "</div>"
      ],
      "text/plain": [
       "   code material              description     source\n",
       "20  G21  Plastic               Drink lids       Food\n",
       "22  G23  Plastic        Lids unidentified  Household\n",
       "23  G24  Plastic  Plastic rings from lids       Food\n",
       "26  G27  Plastic          Cigarette butts     Tobaco\n",
       "27  G28  Plastic            Pens and lids  Household"
      ]
     },
     "execution_count": 18,
     "metadata": {},
     "output_type": "execute_result"
    }
   ],
   "source": [
    "# the results can now be used to get the details (material, source, decription) from the mlwCodes data\n",
    "# make a list from the inventory and apply to the mlwCodes dataframe\n",
    "tigerDuckPlasticCodes = justCodeQauntity.code.tolist()\n",
    "tigerDuckBeachPlasticCodes = mlwCodes[mlwCodes.code.isin(tigerDuckPlasticCodes)]\n",
    "tigerDuckBeachPlasticCodes[:5]"
   ]
  },
  {
   "cell_type": "code",
   "execution_count": 19,
   "metadata": {},
   "outputs": [
    {
     "data": {
      "text/html": [
       "<div>\n",
       "<style scoped>\n",
       "    .dataframe tbody tr th:only-of-type {\n",
       "        vertical-align: middle;\n",
       "    }\n",
       "\n",
       "    .dataframe tbody tr th {\n",
       "        vertical-align: top;\n",
       "    }\n",
       "\n",
       "    .dataframe thead th {\n",
       "        text-align: right;\n",
       "    }\n",
       "</style>\n",
       "<table border=\"1\" class=\"dataframe\">\n",
       "  <thead>\n",
       "    <tr style=\"text-align: right;\">\n",
       "      <th></th>\n",
       "      <th>code</th>\n",
       "      <th>material</th>\n",
       "      <th>description</th>\n",
       "      <th>source</th>\n",
       "      <th>location_id</th>\n",
       "      <th>quantity</th>\n",
       "    </tr>\n",
       "  </thead>\n",
       "  <tbody>\n",
       "    <tr>\n",
       "      <th>0</th>\n",
       "      <td>G21</td>\n",
       "      <td>Plastic</td>\n",
       "      <td>Drink lids</td>\n",
       "      <td>Food</td>\n",
       "      <td>Tiger-duck-beach</td>\n",
       "      <td>38</td>\n",
       "    </tr>\n",
       "    <tr>\n",
       "      <th>1</th>\n",
       "      <td>G23</td>\n",
       "      <td>Plastic</td>\n",
       "      <td>Lids unidentified</td>\n",
       "      <td>Household</td>\n",
       "      <td>Tiger-duck-beach</td>\n",
       "      <td>21</td>\n",
       "    </tr>\n",
       "    <tr>\n",
       "      <th>2</th>\n",
       "      <td>G24</td>\n",
       "      <td>Plastic</td>\n",
       "      <td>Plastic rings from lids</td>\n",
       "      <td>Food</td>\n",
       "      <td>Tiger-duck-beach</td>\n",
       "      <td>19</td>\n",
       "    </tr>\n",
       "    <tr>\n",
       "      <th>3</th>\n",
       "      <td>G27</td>\n",
       "      <td>Plastic</td>\n",
       "      <td>Cigarette butts</td>\n",
       "      <td>Tobaco</td>\n",
       "      <td>Tiger-duck-beach</td>\n",
       "      <td>177</td>\n",
       "    </tr>\n",
       "    <tr>\n",
       "      <th>4</th>\n",
       "      <td>G28</td>\n",
       "      <td>Plastic</td>\n",
       "      <td>Pens and lids</td>\n",
       "      <td>Household</td>\n",
       "      <td>Tiger-duck-beach</td>\n",
       "      <td>1</td>\n",
       "    </tr>\n",
       "  </tbody>\n",
       "</table>\n",
       "</div>"
      ],
      "text/plain": [
       "  code material              description     source       location_id  \\\n",
       "0  G21  Plastic               Drink lids       Food  Tiger-duck-beach   \n",
       "1  G23  Plastic        Lids unidentified  Household  Tiger-duck-beach   \n",
       "2  G24  Plastic  Plastic rings from lids       Food  Tiger-duck-beach   \n",
       "3  G27  Plastic          Cigarette butts     Tobaco  Tiger-duck-beach   \n",
       "4  G28  Plastic            Pens and lids  Household  Tiger-duck-beach   \n",
       "\n",
       "   quantity  \n",
       "0        38  \n",
       "1        21  \n",
       "2        19  \n",
       "3       177  \n",
       "4         1  "
      ]
     },
     "execution_count": 19,
     "metadata": {},
     "output_type": "execute_result"
    }
   ],
   "source": [
    "tigerDuckBeachQtyDescPlastic = pd.merge(tigerDuckBeachPlasticCodes,  justCodeQauntity, on = \"code\", how='left')\n",
    "tigerDuckBeachQtyDescPlastic[:5]\n",
    "# we should write a function that does that whole process!"
   ]
  },
  {
   "cell_type": "markdown",
   "metadata": {},
   "source": [
    "### Of the 89 possible plastic objects that are included in the MLW codes how many were indenditified at tiger-duck-beach?"
   ]
  },
  {
   "cell_type": "code",
   "execution_count": 20,
   "metadata": {},
   "outputs": [
    {
     "data": {
      "text/plain": [
       "24"
      ]
     },
     "execution_count": 20,
     "metadata": {},
     "output_type": "execute_result"
    }
   ],
   "source": [
    "numberPlasticCategories = len(tigerDuckBeachPlastic)\n",
    "numberPlasticCategories"
   ]
  },
  {
   "cell_type": "markdown",
   "metadata": {},
   "source": [
    "### How does this result compare to other locations on Lac Léman?\n",
    "\n",
    "1. Here we need to get all the code data for the lake\n",
    "2. Group by location \n",
    "3. Select only those items that are plastic"
   ]
  },
  {
   "cell_type": "code",
   "execution_count": 21,
   "metadata": {},
   "outputs": [],
   "source": [
    "# get all the code values for the lake\n",
    "urlLac = \"http://mwshovel.pythonanywhere.com/dirt/codes/Lac-Léman/?format=json\"\n",
    "dataLac = requests.get(urlLac).json()"
   ]
  },
  {
   "cell_type": "code",
   "execution_count": 22,
   "metadata": {},
   "outputs": [],
   "source": [
    "# make a data frame and eliminate tiger-duck-beach\n",
    "# if we wanted we could also select only codes that are 'plastic'\n",
    "# do that later\n",
    "dfLacX = pd.DataFrame(dataLac)\n",
    "dfLac = dfLacX[dfLacX.location_id != \"Tiger-duck-beach\"]"
   ]
  },
  {
   "cell_type": "code",
   "execution_count": 23,
   "metadata": {},
   "outputs": [
    {
     "data": {
      "text/plain": [
       "Index(['code_id', 'date', 'length', 'location_id', 'owner', 'project_id',\n",
       "       'quantity'],\n",
       "      dtype='object')"
      ]
     },
     "execution_count": 23,
     "metadata": {},
     "output_type": "execute_result"
    }
   ],
   "source": [
    "# take a look at the columns:\n",
    "dfLac.columns"
   ]
  },
  {
   "cell_type": "code",
   "execution_count": 24,
   "metadata": {},
   "outputs": [],
   "source": [
    "# for now we don't need the project or the owner:\n",
    "dfLac = dfLac[['date', 'location_id', 'code_id', 'quantity', 'length']]\n",
    "# just need the plastic codes:\n",
    "dfLacPlastic = dfLac[dfLac['code_id'].isin(plasticList)]"
   ]
  },
  {
   "cell_type": "code",
   "execution_count": 54,
   "metadata": {},
   "outputs": [
    {
     "data": {
      "text/html": [
       "<div>\n",
       "<style scoped>\n",
       "    .dataframe tbody tr th:only-of-type {\n",
       "        vertical-align: middle;\n",
       "    }\n",
       "\n",
       "    .dataframe tbody tr th {\n",
       "        vertical-align: top;\n",
       "    }\n",
       "\n",
       "    .dataframe thead th {\n",
       "        text-align: right;\n",
       "    }\n",
       "</style>\n",
       "<table border=\"1\" class=\"dataframe\">\n",
       "  <thead>\n",
       "    <tr style=\"text-align: right;\">\n",
       "      <th></th>\n",
       "      <th></th>\n",
       "      <th>quantity</th>\n",
       "    </tr>\n",
       "    <tr>\n",
       "      <th>location_id</th>\n",
       "      <th>date</th>\n",
       "      <th></th>\n",
       "    </tr>\n",
       "  </thead>\n",
       "  <tbody>\n",
       "    <tr>\n",
       "      <th>Anarchy-Beach</th>\n",
       "      <th>2018-04-02</th>\n",
       "      <td>28</td>\n",
       "    </tr>\n",
       "    <tr>\n",
       "      <th rowspan=\"5\" valign=\"top\">Arabie</th>\n",
       "      <th>2016-01-24</th>\n",
       "      <td>32</td>\n",
       "    </tr>\n",
       "    <tr>\n",
       "      <th>2016-04-02</th>\n",
       "      <td>22</td>\n",
       "    </tr>\n",
       "    <tr>\n",
       "      <th>2016-08-25</th>\n",
       "      <td>29</td>\n",
       "    </tr>\n",
       "    <tr>\n",
       "      <th>2017-02-16</th>\n",
       "      <td>21</td>\n",
       "    </tr>\n",
       "    <tr>\n",
       "      <th>2018-05-08</th>\n",
       "      <td>16</td>\n",
       "    </tr>\n",
       "    <tr>\n",
       "      <th rowspan=\"3\" valign=\"top\">Bain-des-Dames</th>\n",
       "      <th>2016-03-26</th>\n",
       "      <td>29</td>\n",
       "    </tr>\n",
       "    <tr>\n",
       "      <th>2017-05-19</th>\n",
       "      <td>21</td>\n",
       "    </tr>\n",
       "    <tr>\n",
       "      <th>2018-07-22</th>\n",
       "      <td>23</td>\n",
       "    </tr>\n",
       "    <tr>\n",
       "      <th>Baye-de-Clarens</th>\n",
       "      <th>2015-11-24</th>\n",
       "      <td>19</td>\n",
       "    </tr>\n",
       "  </tbody>\n",
       "</table>\n",
       "</div>"
      ],
      "text/plain": [
       "                            quantity\n",
       "location_id     date                \n",
       "Anarchy-Beach   2018-04-02        28\n",
       "Arabie          2016-01-24        32\n",
       "                2016-04-02        22\n",
       "                2016-08-25        29\n",
       "                2017-02-16        21\n",
       "                2018-05-08        16\n",
       "Bain-des-Dames  2016-03-26        29\n",
       "                2017-05-19        21\n",
       "                2018-07-22        23\n",
       "Baye-de-Clarens 2015-11-24        19"
      ]
     },
     "execution_count": 54,
     "metadata": {},
     "output_type": "execute_result"
    }
   ],
   "source": [
    "dfLacPlasticGrouped = pd.DataFrame(dfLacPlastic['quantity'].groupby([dfLacPlastic['location_id'],dfLacPlastic['date'], dfLacPlastic['code_id']]).sum())\n",
    "# dfLacPlasticGrouped[:29] <---- uncomment this to see the results\n",
    "# this is just one of many ways to group with pandas\n",
    "# below we get the count of MLW codes indetified in each survey:\n",
    "counts = dfLacPlasticGrouped.groupby(['location_id', 'date']).count()\n",
    "counts[:10]"
   ]
  },
  {
   "cell_type": "code",
   "execution_count": 55,
   "metadata": {},
   "outputs": [
    {
     "data": {
      "text/plain": [
       "array([[<matplotlib.axes._subplots.AxesSubplot object at 0x7fd50460f780>]],\n",
       "      dtype=object)"
      ]
     },
     "execution_count": 55,
     "metadata": {},
     "output_type": "execute_result"
    },
    {
     "data": {
      "image/png": "[encoded data removed]",
      "text/plain": [
       "<Figure size 432x288 with 1 Axes>"
      ]
     },
     "metadata": {},
     "output_type": "display_data"
    }
   ],
   "source": [
    "# throw that into a histogram to see how the results from tiger-duck-beach compare\n",
    "# remember there were 24 MLW codes indetified\n",
    "counts.hist(bins=7)"
   ]
  },
  {
   "cell_type": "markdown",
   "metadata": {},
   "source": [
    "### So the number of different categories indentified on tiger-duck-beach is in the third quartile or right around what would we would expect to find based on previous results"
   ]
  }
 ],
 "metadata": {
  "kernelspec": {
   "display_name": "Python 3",
   "language": "python",
   "name": "python3"
  },
  "language_info": {
   "codemirror_mode": {
    "name": "ipython",
    "version": 3
   },
   "file_extension": ".py",
   "mimetype": "text/x-python",
   "name": "python",
   "nbconvert_exporter": "python",
   "pygments_lexer": "ipython3",
   "version": "3.6.5"
  }
 },
 "nbformat": 4,
 "nbformat_minor": 2
}
