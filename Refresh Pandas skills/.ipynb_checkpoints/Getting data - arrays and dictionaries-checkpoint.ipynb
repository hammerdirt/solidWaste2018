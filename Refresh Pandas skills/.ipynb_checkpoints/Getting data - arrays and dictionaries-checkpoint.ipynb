{
 "cells": [
  {
   "cell_type": "markdown",
   "metadata": {},
   "source": [
    "### Solid Waste Engineering 2018\n",
    "#### Semester project: Testing the probability of garbage\n",
    "\n",
    "Masters students in Environmental Engineering from the École Polytechnique Féderale de Lausanne test the hypothesis that litter densities on Lac Léman are predicatable. The current method is based on the Probability Density Function derived from the logarithm of the pieces/meter of trash (pcs/m) from over 100 samples.\n",
    "\n",
    "This is a refresher of the basic skills needed to transform the data but not an introduction\n",
    "\n",
    "References\n",
    "\n",
    "1. Python for data analysis\n",
    "2. Think stats: exploratory data analysis\n",
    "3. [https://pandas.pydata,org](https://pandas.pydata,org)\n",
    "\n",
    "#### Using a notebook:\n",
    "\n",
    "1. \"shift\" + \"enter\" is how you enter the data from one cell\n",
    "2. Remember to use the dropdown-menu \"Cell\" => \"Run All\" at the very begining\n",
    "3. how to use a notebook [offcial doc](https://jupyter-notebook.readthedocs.io/en/latest/examples/Notebook/Notebook%20Basics.html)"
   ]
  },
  {
   "cell_type": "code",
   "execution_count": 2,
   "metadata": {},
   "outputs": [],
   "source": [
    "# import what you need"
   ]
  },
  {
   "cell_type": "code",
   "execution_count": 3,
   "metadata": {},
   "outputs": [],
   "source": [
    "import pandas as pd #<----- methods for handling data similar to \"R\"\n",
    "import numpy as np #<------ library of standard mathematical methods\n",
    "import matplotlib #<------- library for creating graphs an plots\n",
    "import matplotlib.pyplot as plt \n",
    "import re #<-------- REGEX\n",
    "import os #<------ library to use basic operating system commands\n",
    "from scipy.stats import norm #<-------- the \"norm\" method will be used quite a bit so get it by name \n",
    "import scipy.stats #<----------- for \"almost all\" of our statistical computing needs\n",
    "import statsmodels.api as sm #<-------- whats not in scipy.stats is in here\n",
    "import requests #<------- getting data from the \"internet\" - http protocols etc..\n",
    "import json #<----- most of the data from the API is in JSON format"
   ]
  },
  {
   "cell_type": "markdown",
   "metadata": {},
   "source": [
    "### Getting data from the API"
   ]
  },
  {
   "cell_type": "code",
   "execution_count": 4,
   "metadata": {},
   "outputs": [],
   "source": [
    "# all the data is available through the api @ https://mwshovel.pythonanywhere.com/dirt/api_home.html\n",
    "# the data is in JSON format => {property:value, property-two:value-two} like a a python dicitionary\n",
    "# the first thing to do is indentify the URL that will give the right data set\n",
    "\n",
    "url = \"http://mwshovel.pythonanywhere.com/dirt/daily-total/Lac-Léman/?format=json\"#<--- at the end of the url we insist on JSON\n"
   ]
  },
  {
   "cell_type": "code",
   "execution_count": 5,
   "metadata": {},
   "outputs": [],
   "source": [
    "#  with the url in hand the data can be requested\n",
    "# in the prior cell a variable is created that has the value of the desired URL, nothing has happened yet\n",
    "# use the requests library to \"get\" the URL and identify the data type .json()\n",
    "# more about the requests library: http://docs.python-requests.org/en/master/\n",
    "# more about the json() library: https://docs.python.org/3/library/json.html\n",
    "\n",
    "data = requests.get(url).json()"
   ]
  },
  {
   "cell_type": "code",
   "execution_count": 6,
   "metadata": {},
   "outputs": [
    {
     "data": {
      "text/plain": [
       "{'location': 'Baye-de-Montreux-G',\n",
       " 'date': '2015-11-23',\n",
       " 'length': 61,\n",
       " 'total': 349}"
      ]
     },
     "execution_count": 6,
     "metadata": {},
     "output_type": "execute_result"
    }
   ],
   "source": [
    "# data is an array of dictionaries\n",
    "# the form is : [{dictionary-one}, {dictionary-two}, ... {dictionary-n}]\n",
    "# call the first record\n",
    "\n",
    "data[0]"
   ]
  },
  {
   "cell_type": "markdown",
   "metadata": {},
   "source": [
    "### Arrays and dictionaries"
   ]
  },
  {
   "cell_type": "markdown",
   "metadata": {},
   "source": [
    "#### Dictionaries:"
   ]
  },
  {
   "cell_type": "code",
   "execution_count": 7,
   "metadata": {},
   "outputs": [
    {
     "data": {
      "text/plain": [
       "dict_keys(['location', 'date', 'length', 'total'])"
      ]
     },
     "execution_count": 7,
     "metadata": {},
     "output_type": "execute_result"
    }
   ],
   "source": [
    "# basics on python dictionaries:https://docs.python.org/3.7/tutorial/datastructures.html#dictionaries\n",
    "aDict = data[0]\n",
    "\n",
    "# Question: What information is stored in the aDict?\n",
    "aDictKeys = aDict.keys()\n",
    "# a dictionary is a collection of matched pairs in this case: \"location:location-name, date:date-of-survey etc...\"\n",
    "\n",
    "# calling:\n",
    "aDictKeys\n",
    "# gives the list of 'keys' or 'property-names' of the dictionary"
   ]
  },
  {
   "cell_type": "code",
   "execution_count": 8,
   "metadata": {},
   "outputs": [
    {
     "data": {
      "text/plain": [
       "dict_keys"
      ]
     },
     "execution_count": 8,
     "metadata": {},
     "output_type": "execute_result"
    }
   ],
   "source": [
    "# notice that aDictKeys or the .keys() method does not return an array\n",
    "type(aDictKeys)"
   ]
  },
  {
   "cell_type": "code",
   "execution_count": 9,
   "metadata": {},
   "outputs": [],
   "source": [
    "# which means you can't index the values like this\n",
    "# aDictKeys[0]\n",
    "# it will throw a \"TypeError: 'dict_keys' object does not support indexing\"\n",
    "# so if you need to use the keys as variables you need to get them another way\n",
    "# or turn that into an array"
   ]
  },
  {
   "cell_type": "code",
   "execution_count": 10,
   "metadata": {},
   "outputs": [
    {
     "data": {
      "text/plain": [
       "['location', 'date', 'length', 'total']"
      ]
     },
     "execution_count": 10,
     "metadata": {},
     "output_type": "execute_result"
    }
   ],
   "source": [
    "# like this\n",
    "aListDictKeys = list(aDictKeys)\n",
    "aListDictKeys"
   ]
  },
  {
   "cell_type": "markdown",
   "metadata": {},
   "source": [
    "#### Using dicitionaries\n",
    "\n",
    "This is not a basic course, the idea is to show the likeley use case in the current application (probability of garbage) and to refresh everybodies memory!"
   ]
  },
  {
   "cell_type": "code",
   "execution_count": 11,
   "metadata": {},
   "outputs": [
    {
     "data": {
      "text/plain": [
       "{'Veveyse': [('2015-11-27', 216, 53),\n",
       "  ('2015-12-01', 52, 53),\n",
       "  ('2015-12-07', 193, 53),\n",
       "  ('2015-12-14', 129, 53),\n",
       "  ('2016-01-08', 147, 53),\n",
       "  ('2016-01-15', 145, 53),\n",
       "  ('2016-01-21', 144, 53),\n",
       "  ('2016-02-09', 126, 53),\n",
       "  ('2016-03-11', 245, 53),\n",
       "  ('2016-04-02', 243, 53),\n",
       "  ('2016-04-12', 172, 53),\n",
       "  ('2016-04-19', 248, 53),\n",
       "  ('2016-06-17', 285, 53),\n",
       "  ('2016-11-14', 211, 62),\n",
       "  ('2016-11-28', 303, 47),\n",
       "  ('2016-12-05', 285, 47),\n",
       "  ('2017-01-05', 292, 43)]}"
      ]
     },
     "execution_count": 11,
     "metadata": {},
     "output_type": "execute_result"
    }
   ],
   "source": [
    "# extract all the results for one location from data:\n",
    "# couple of ways to do that, first identify a location: \"Veveyse\"\n",
    "# veveyse = {\"Veveyse\":[]}\n",
    "results = [(x['date'],x['total'],x['length']) for x in data if x['location'] == 'Veveyse']\n",
    "Veveyse = {\"Veveyse\":results}\n",
    "Veveyse"
   ]
  },
  {
   "cell_type": "code",
   "execution_count": 12,
   "metadata": {},
   "outputs": [],
   "source": [
    "# so from there we can do same for all the data in our variable:\n",
    "# first get all the location names into a dictionary:\n",
    "locationData = {x['location']:[] for x in data}\n",
    "# get all the location names in a list\n",
    "locationKeys = list(locationData.keys())\n",
    "# write a simple for loop to capture all that:\n",
    "\n",
    "def makeLocationData():\n",
    "    for a in locationKeys:\n",
    "        results = [(x['date'],x['total'],x['length']) for x in data if x['location'] == a ]\n",
    "        locationData.update({a:results})\n",
    "\n",
    "makeLocationData()"
   ]
  },
  {
   "cell_type": "code",
   "execution_count": 13,
   "metadata": {},
   "outputs": [
    {
     "data": {
      "text/plain": [
       "[('2015-11-23', 349, 61),\n",
       " ('2015-12-04', 511, 61),\n",
       " ('2015-12-10', 308, 61),\n",
       " ('2015-12-17', 257, 61),\n",
       " ('2015-12-30', 358, 61),\n",
       " ('2016-01-13', 388, 61),\n",
       " ('2016-01-19', 75, 61),\n",
       " ('2016-02-11', 114, 61),\n",
       " ('2016-03-10', 188, 61),\n",
       " ('2016-06-22', 220, 61),\n",
       " ('2016-07-15', 330, 61),\n",
       " ('2016-12-16', 384, 31)]"
      ]
     },
     "execution_count": 13,
     "metadata": {},
     "output_type": "execute_result"
    }
   ],
   "source": [
    "# so now you can call the location data like this:\n",
    "locationData['Baye-de-Montreux-G']"
   ]
  },
  {
   "cell_type": "markdown",
   "metadata": {},
   "source": [
    "### Your turn:\n",
    "\n",
    "1. Use the list \"locationKeys\" to call some other values out of the dictionary \"locationData\"\n",
    "2. Get data from Zurichsee use this url \"https://mwshovel.pythonanywhere.com/dirt/daily-total/Zurichsee/?format=json\"\n",
    "3. Make a dictionary like locationData\n",
    "4. Call a few values"
   ]
  },
  {
   "cell_type": "code",
   "execution_count": 14,
   "metadata": {},
   "outputs": [
    {
     "data": {
      "text/plain": [
       "'Grand-Clos'"
      ]
     },
     "execution_count": 14,
     "metadata": {},
     "output_type": "execute_result"
    }
   ],
   "source": [
    "# getting values from locationKeys\n",
    "locationKeys[2]\n",
    "# remember the value of locationKeys will change when you use the data from Zurichsee "
   ]
  },
  {
   "cell_type": "code",
   "execution_count": null,
   "metadata": {},
   "outputs": [],
   "source": []
  }
 ],
 "metadata": {
  "kernelspec": {
   "display_name": "Python 3",
   "language": "python",
   "name": "python3"
  },
  "language_info": {
   "codemirror_mode": {
    "name": "ipython",
    "version": 3
   },
   "file_extension": ".py",
   "mimetype": "text/x-python",
   "name": "python",
   "nbconvert_exporter": "python",
   "pygments_lexer": "ipython3",
   "version": "3.6.5"
  }
 },
 "nbformat": 4,
 "nbformat_minor": 2
}
