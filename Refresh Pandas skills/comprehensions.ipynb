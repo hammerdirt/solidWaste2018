{
 "cells": [
  {
   "cell_type": "markdown",
   "metadata": {},
   "source": [
    "### List and dicationary comprehensions\n",
    "#### References\n",
    "1. Python for data analysis\n",
    "2. Think stats: exploratory data analysis\n",
    "3. https://pandas.pydata,org\n"
   ]
  },
  {
   "cell_type": "code",
   "execution_count": 1,
   "metadata": {},
   "outputs": [],
   "source": [
    "# list comprehensions\n",
    "# start with a list or two\n",
    "a = ['happy', 'abrupt', 'messy', 'manic', 'excellent', 'rigorous', 'debonair', 'idealistic', 'radical', 'tasty']\n",
    "b = [12, 13, 15, 18, 1, 7, 39, 81, 6, 9, 8, 10]"
   ]
  },
  {
   "cell_type": "code",
   "execution_count": 2,
   "metadata": {},
   "outputs": [
    {
     "name": "stdout",
     "output_type": "stream",
     "text": [
      "['abrupt', 'excellent', 'rigorous', 'debonair', 'idealistic', 'radical'] [5, 5, 5, 5]\n"
     ]
    }
   ],
   "source": [
    "# get all the words whose length is in list b\n",
    "c = [x for x in a if len(x) in b]\n",
    "# get all the lengths that are not in list a\n",
    "d = [len(x) for x in a if len(x) not in b]\n",
    "print(c, d)"
   ]
  },
  {
   "cell_type": "code",
   "execution_count": 3,
   "metadata": {},
   "outputs": [
    {
     "data": {
      "text/plain": [
       "['happy', 'messy', 'excellent', 'debonair', 'radical']"
      ]
     },
     "execution_count": 3,
     "metadata": {},
     "output_type": "execute_result"
    }
   ],
   "source": [
    "# make a list with every second word from a list\n",
    "# not technically a list comprehension but it is good to remember\n",
    "e = a[::2]\n",
    "e"
   ]
  },
  {
   "cell_type": "code",
   "execution_count": 4,
   "metadata": {},
   "outputs": [
    {
     "name": "stdout",
     "output_type": "stream",
     "text": [
      "['rigorous', 'radical'] ['rigorous']\n"
     ]
    }
   ],
   "source": [
    "# remember strings can b considered lists also\n",
    "# make a list of only the words that start with 'r'\n",
    "f = [x for x in a if x[0] == 'r']\n",
    "# do the same but get wors that end with 's'\n",
    "g = [x for x in a if x[-1] == 's']\n",
    "print(f,g)"
   ]
  },
  {
   "cell_type": "code",
   "execution_count": 5,
   "metadata": {},
   "outputs": [
    {
     "name": "stdout",
     "output_type": "stream",
     "text": [
      "[24, 26, 30, 36, 2, 14, 78, 162, 12, 18, 16, 20]\n",
      "['happyhappy', 'abruptabrupt', 'messymessy', 'manicmanic', 'excellentexcellent', 'rigorousrigorous', 'debonairdebonair', 'idealisticidealistic', 'radicalradical', 'tastytasty']\n"
     ]
    }
   ],
   "source": [
    "# functions can be applied to elements of a list comprehension:\n",
    "def make_double(x):\n",
    "    return x * 2\n",
    "h = [make_double(x) for x in b]\n",
    "# that works for strings too\n",
    "f = [make_double(x) for x in a]\n",
    "print(h)\n",
    "print(f)"
   ]
  },
  {
   "cell_type": "code",
   "execution_count": 6,
   "metadata": {},
   "outputs": [
    {
     "name": "stdout",
     "output_type": "stream",
     "text": [
      "[(12, 24), (13, 26), (15, 30), (18, 36), (1, 2), (7, 14), (39, 78), (81, 162), (6, 12), (9, 18), (8, 16), (10, 20)]\n"
     ]
    }
   ],
   "source": [
    "# on that note you can also make matched pairs:\n",
    "g = [(x, make_double(x)) for x in b]\n",
    "print(g)\n",
    "# that gives a set of tuples, you can make lists, or even dixtionairies"
   ]
  },
  {
   "cell_type": "code",
   "execution_count": 7,
   "metadata": {},
   "outputs": [
    {
     "data": {
      "text/plain": [
       "[144, 169, 225, 324, 1, 49, 1521, 6561, 36, 81, 64, 100]"
      ]
     },
     "execution_count": 7,
     "metadata": {},
     "output_type": "execute_result"
    }
   ],
   "source": [
    "#  which means you can use a lambda function\n",
    "h = lambda x: x**2\n",
    "i = [h(x) for x in b]\n",
    "i"
   ]
  },
  {
   "cell_type": "code",
   "execution_count": 8,
   "metadata": {},
   "outputs": [
    {
     "name": "stdout",
     "output_type": "stream",
     "text": [
      "[149, 174, 230, 329, 6, 54, 1526, 6566, 41, 86, 69, 105]\n"
     ]
    }
   ],
   "source": [
    "# and of course you can nest lambda functions:\n",
    "add_one = lambda x: x + 5\n",
    "j = [add_one(h(x)) for x in b]\n",
    "print(j)"
   ]
  },
  {
   "cell_type": "markdown",
   "metadata": {},
   "source": [
    "### Dictionary comprehnensions"
   ]
  },
  {
   "cell_type": "code",
   "execution_count": 9,
   "metadata": {},
   "outputs": [
    {
     "name": "stdout",
     "output_type": "stream",
     "text": [
      "{12: 24, 13: 26, 15: 30, 18: 36, 1: 2, 7: 14, 39: 78, 81: 162, 6: 12, 9: 18, 8: 16, 10: 20}\n"
     ]
    }
   ],
   "source": [
    "# Dictionanaries can be made just like lists (from lists):\n",
    "k = {x[0]:x[1] for x in g}\n",
    "print(k)"
   ]
  },
  {
   "cell_type": "code",
   "execution_count": 10,
   "metadata": {},
   "outputs": [
    {
     "name": "stdout",
     "output_type": "stream",
     "text": [
      "[{'x0': 12, 'y0': 24}, {'x1': 13, 'y1': 26}, {'x2': 15, 'y2': 30}, {'x3': 18, 'y3': 36}, {'x4': 1, 'y4': 2}, {'x5': 7, 'y5': 14}, {'x6': 39, 'y6': 78}, {'x7': 81, 'y7': 162}, {'x8': 6, 'y8': 12}, {'x9': 9, 'y9': 18}, {'x10': 8, 'y10': 16}, {'x11': 10, 'y11': 20}]\n"
     ]
    }
   ],
   "source": [
    "# a list of tuples can be passed also to create a list of dictionaries\n",
    "l = [{'x' + str(i): x, 'y' + str(i): y} for i, (x,y) in enumerate(g)]\n",
    "print(l)"
   ]
  },
  {
   "cell_type": "code",
   "execution_count": 11,
   "metadata": {},
   "outputs": [
    {
     "name": "stdout",
     "output_type": "stream",
     "text": [
      "{'x0': 12, 'y0': 24, 'x1': 13, 'y1': 26, 'x2': 15, 'y2': 30, 'x3': 18, 'y3': 36, 'x4': 1, 'y4': 2, 'x5': 7, 'y5': 14, 'x6': 39, 'y6': 78, 'x7': 81, 'y7': 162, 'x8': 6, 'y8': 12, 'x9': 9, 'y9': 18, 'x10': 8, 'y10': 16, 'x11': 10, 'y11': 20}\n"
     ]
    }
   ],
   "source": [
    "# then that can be turned into a dictionary of dictionaries:\n",
    "l_x = {k:v for x in l for k,v in x.items()}\n",
    "print(l_x)"
   ]
  },
  {
   "cell_type": "code",
   "execution_count": 12,
   "metadata": {},
   "outputs": [
    {
     "name": "stdout",
     "output_type": "stream",
     "text": [
      "[{'location_id': 'Veveyse', 'date': '2015-11-27', 'code_id': 'G100', 'length': 53, 'quantity': 1, 'project_id': 'MCBP', 'owner': 'mwshovel'}, {'location_id': 'Veveyse', 'date': '2015-11-27', 'code_id': 'G101', 'length': 53, 'quantity': 1, 'project_id': 'MCBP', 'owner': 'mwshovel'}, {'location_id': 'Veveyse', 'date': '2015-11-27', 'code_id': 'G150', 'length': 53, 'quantity': 1, 'project_id': 'MCBP', 'owner': 'mwshovel'}, {'location_id': 'Veveyse', 'date': '2015-11-27', 'code_id': 'G151', 'length': 53, 'quantity': 1, 'project_id': 'MCBP', 'owner': 'mwshovel'}, {'location_id': 'Veveyse', 'date': '2015-11-27', 'code_id': 'G159', 'length': 53, 'quantity': 2, 'project_id': 'MCBP', 'owner': 'mwshovel'}]\n"
     ]
    }
   ],
   "source": [
    "# lets get some more interesting data\n",
    "\n",
    "import requests\n",
    "import json\n",
    "\n",
    "url = \"http://mwshovel.pythonanywhere.com/dirt/codes/Vevey/?format=json\"\n",
    "data = requests.get(url).json()\n",
    "print(data[:5])"
   ]
  },
  {
   "cell_type": "code",
   "execution_count": 13,
   "metadata": {},
   "outputs": [
    {
     "name": "stdout",
     "output_type": "stream",
     "text": [
      "{12: 24, 13: 26, 15: 30, 18: 36, 1: 2, 7: 14, 39: 78, 81: 162, 6: 12, 9: 18, 8: 16, 10: 20}\n"
     ]
    }
   ],
   "source": [
    "# this is a list of dictionaries\n",
    "# make a dict that groups the results by location\n",
    "# first we need to make a dict that has location_id as a key\n",
    "m = {x['location_id']:[] for x in data}\n",
    "print(k)"
   ]
  },
  {
   "cell_type": "code",
   "execution_count": 14,
   "metadata": {},
   "outputs": [
    {
     "data": {
      "text/plain": [
       "[('2015-11-27', 'G100', 53, 1),\n",
       " ('2015-11-27', 'G101', 53, 1),\n",
       " ('2015-11-27', 'G150', 53, 1),\n",
       " ('2015-11-27', 'G151', 53, 1),\n",
       " ('2015-11-27', 'G159', 53, 2)]"
      ]
     },
     "execution_count": 14,
     "metadata": {},
     "output_type": "execute_result"
    }
   ],
   "source": [
    "# now append the relevant data to the empty list\n",
    "m['Veveyse']=[(x['date'], x['code_id'], x['length'], x['quantity']) for x in data if x['location_id'] == 'Veveyse']\n",
    "m['Veveyse'][:5]"
   ]
  },
  {
   "cell_type": "code",
   "execution_count": 15,
   "metadata": {},
   "outputs": [
    {
     "data": {
      "text/plain": [
       "[('2016-01-24', 'G10', 40, 106),\n",
       " ('2016-01-24', 'G100', 40, 15),\n",
       " ('2016-01-24', 'G125', 40, 11),\n",
       " ('2016-01-24', 'G126', 40, 2),\n",
       " ('2016-01-24', 'G131', 40, 3),\n",
       " ('2016-01-24', 'G145', 40, 3)]"
      ]
     },
     "execution_count": 15,
     "metadata": {},
     "output_type": "execute_result"
    }
   ],
   "source": [
    "# of course we can write a function that does all of that in one go:\n",
    "def makeADict():\n",
    "    for a in list(m):\n",
    "        m[a] = [(x['date'], x['code_id'], x['length'], x['quantity']) for x in data if x['location_id'] == a]\n",
    "makeADict()\n",
    "m['Arabie'][:6]        "
   ]
  },
  {
   "cell_type": "code",
   "execution_count": null,
   "metadata": {},
   "outputs": [],
   "source": []
  }
 ],
 "metadata": {
  "kernelspec": {
   "display_name": "Python 3",
   "language": "python",
   "name": "python3"
  },
  "language_info": {
   "codemirror_mode": {
    "name": "ipython",
    "version": 3
   },
   "file_extension": ".py",
   "mimetype": "text/x-python",
   "name": "python",
   "nbconvert_exporter": "python",
   "pygments_lexer": "ipython3",
   "version": "3.6.5"
  }
 },
 "nbformat": 4,
 "nbformat_minor": 1
}
