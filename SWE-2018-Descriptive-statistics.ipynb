{
 "cells": [
  {
   "cell_type": "markdown",
   "metadata": {},
   "source": [
    "### Solid Waste Engineering 2018\n",
    "#### Book 2 of x see notebook Solid Waste Engineering 2018\n",
    "#### Semester project: Testing the probability of garbage\n",
    "Masters students in Environmental Engineering from the [École Polytechnique Féderale de Lausanne](https://enac.epfl.ch/environmental-engineering) test the hypothesis that litter densities on Lac Léman are predicatable.  The current method is based on the Probability Density Function derived from the logarithm of the pieces/meter of trash (pcs/m) from over 100 samples.\n",
    "\n",
    "#### Purpose: Understanding how the results from one inventory relate to the rest of the inventories for the lake.\n",
    "\n",
    "1. Getting data from the API\n",
    "2. Reporting descriptive statistics\n",
    "3. Comparing results on the lake\n",
    "4. Graphing results\n",
    "\n",
    "We will add to this workbook as the semester advances"
   ]
  },
  {
   "cell_type": "code",
   "execution_count": 1,
   "metadata": {},
   "outputs": [],
   "source": [
    "import pandas as pd\n",
    "import numpy as np\n",
    "import matplotlib\n",
    "import matplotlib.pyplot as plt\n",
    "import re\n",
    "from scipy.stats import norm\n",
    "import scipy.stats\n",
    "import statsmodels.api as sm\n",
    "import seaborn\n",
    "import requests\n",
    "import json"
   ]
  },
  {
   "cell_type": "markdown",
   "metadata": {},
   "source": [
    "### This is all the daily totals in the database for Lac Léman:\n",
    "The api makes this operation very straight forward it can be put into a dataFrame directly."
   ]
  },
  {
   "cell_type": "code",
   "execution_count": 2,
   "metadata": {},
   "outputs": [],
   "source": [
    "# make a function to get data\n",
    "# we will hit the api more than once\n",
    "def getData(url):\n",
    "    a = url\n",
    "    c = requests.get(url).json()\n",
    "    d = pd.DataFrame(c)\n",
    "    return d"
   ]
  },
  {
   "cell_type": "code",
   "execution_count": 3,
   "metadata": {},
   "outputs": [
    {
     "data": {
      "text/plain": [
       "date                2015-11-23\n",
       "length                      61\n",
       "location    Baye-de-Montreux-G\n",
       "total                      349\n",
       "pcs_m                  5.72131\n",
       "Name: 0, dtype: object"
      ]
     },
     "execution_count": 3,
     "metadata": {},
     "output_type": "execute_result"
    }
   ],
   "source": [
    "this_data = getData(\"http://mwshovel.pythonanywhere.com/dirt/daily-total/Lac-Léman/?format=json\")\n",
    "# the pcs/m ratio is not stored in the database and therefore needs to be calculated\n",
    "this_data[\"pcs_m\"]=this_data.total / this_data.length\n",
    "# make a copy and give it a name that is easier to recognize:\n",
    "dailyTotalsLac = this_data.copy()\n",
    "colNameTotals = list(dailyTotalsLac.columns)\n",
    "# one record from the df\n",
    "dailyTotalsLac.iloc[0]"
   ]
  },
  {
   "cell_type": "markdown",
   "metadata": {},
   "source": [
    "### This is all the beaches in the database for Lac Léman:\n",
    "This gives all the geo information for each beach in the data base:"
   ]
  },
  {
   "cell_type": "code",
   "execution_count": 4,
   "metadata": {},
   "outputs": [
    {
     "data": {
      "text/plain": [
       "city          La-Tour-de-Peilz\n",
       "latitude           46.44721600\n",
       "location         Anarchy-Beach\n",
       "longitude           6.85961200\n",
       "owner                 mwshovel\n",
       "post                      1814\n",
       "project_id                MCBP\n",
       "water                        l\n",
       "water_name           Lac-Léman\n",
       "Name: 0, dtype: object"
      ]
     },
     "execution_count": 4,
     "metadata": {},
     "output_type": "execute_result"
    }
   ],
   "source": [
    "beach_data = getData(\"http://mwshovel.pythonanywhere.com/dirt/beaches/Lac-L%C3%A9man/\")\n",
    "beachData = beach_data.copy()\n",
    "beachColumns = list(beachData.columns)\n",
    "# one record from the df\n",
    "beachData.iloc[0]"
   ]
  },
  {
   "cell_type": "markdown",
   "metadata": {},
   "source": [
    "### Getting the object information for each inventory\n",
    "The inventories are stored in a non aggregated form."
   ]
  },
  {
   "cell_type": "code",
   "execution_count": 5,
   "metadata": {},
   "outputs": [
    {
     "data": {
      "text/plain": [
       "code_id                      G100\n",
       "date                   2015-11-23\n",
       "length                         61\n",
       "location_id    Baye-de-Montreux-G\n",
       "owner                    mwshovel\n",
       "project_id                   MCBP\n",
       "quantity                        1\n",
       "Name: 0, dtype: object"
      ]
     },
     "execution_count": 5,
     "metadata": {},
     "output_type": "execute_result"
    }
   ],
   "source": [
    "code_data = getData(\"https://mwshovel.pythonanywhere.com/dirt/codes/Lac-Léman/\")\n",
    "codeData = code_data.copy()\n",
    "codeColumns = list(codeData.columns)\n",
    "codeData.iloc[0]"
   ]
  },
  {
   "cell_type": "markdown",
   "metadata": {},
   "source": [
    "### This gets the MLW codes from the website:"
   ]
  },
  {
   "cell_type": "code",
   "execution_count": 6,
   "metadata": {},
   "outputs": [],
   "source": [
    "csvUrl = \"https://mwshovel.pythonanywhere.com/static/newCriteria.csv\"\n",
    "mlwCodes = pd.read_csv(csvUrl)"
   ]
  },
  {
   "cell_type": "markdown",
   "metadata": {},
   "source": [
    "### The descriptive statistics for each beach on the lake and for the lake\n",
    "This data is available on the api also"
   ]
  },
  {
   "cell_type": "code",
   "execution_count": 7,
   "metadata": {},
   "outputs": [],
   "source": [
    "# make a function to get all the results in a dictionary:\n",
    "url_x = \"http://mwshovel.pythonanywhere.com/dirt/summary\" #<--- need to add the following \"/beach or lake/?format=json\"\n",
    "beachNames = list(beachData.location)\n",
    "cities = list(beachData.city.unique())\n"
   ]
  },
  {
   "cell_type": "code",
   "execution_count": 8,
   "metadata": {},
   "outputs": [],
   "source": [
    "def getSummaries(aList):\n",
    "    c = {}\n",
    "    for x in aList:\n",
    "        a = str(url_x + \"/\" + str(x) + \"/?format=json\")\n",
    "        b = requests.get(a).json()\n",
    "        d = {x:b}\n",
    "        c.update(d)\n",
    "    return c\n",
    "beachSummaries = getSummaries(beachNames)\n",
    "citySummaries = getSummaries(cities)\n",
    "lakeSummary = getSummaries(['Lac-Léman'])"
   ]
  },
  {
   "cell_type": "code",
   "execution_count": 9,
   "metadata": {},
   "outputs": [
    {
     "name": "stdout",
     "output_type": "stream",
     "text": [
      "Tolochenaz\n",
      "{'num_locs': 1, 'total': 402, 'num_samps': 1, 'first': '2016-04', 'last': '2016-04', 'ave_dense': '3.2683', 'max_dense': '3.2683', 'min_dense': '3.2683', 'two_five': '3.2683', 'seven_five': '3.2683', 'num_lakes': 1, 'num_rivers': 0, 'stan_dev': '0.0000', 'location': 'Tolochenaz'}\n"
     ]
    }
   ],
   "source": [
    "# so if that works we should be able to do soemthing like this:\n",
    "print(cities[3])\n",
    "print(citySummaries[cities[3]])\n",
    "# that looks good!"
   ]
  }
 ],
 "metadata": {
  "kernelspec": {
   "display_name": "Python 3",
   "language": "python",
   "name": "python3"
  },
  "language_info": {
   "codemirror_mode": {
    "name": "ipython",
    "version": 3
   },
   "file_extension": ".py",
   "mimetype": "text/x-python",
   "name": "python",
   "nbconvert_exporter": "python",
   "pygments_lexer": "ipython3",
   "version": "3.6.5"
  }
 },
 "nbformat": 4,
 "nbformat_minor": 2
}
